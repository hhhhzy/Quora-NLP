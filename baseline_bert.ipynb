{
 "cells": [
  {
   "cell_type": "markdown",
   "id": "afa2acb2-368a-4a26-92b6-a5c6edf1f0d1",
   "metadata": {},
   "source": [
    "# BERT Fine Tuning with QQP"
   ]
  },
  {
   "cell_type": "markdown",
   "id": "8b690266-a1af-402c-81ff-1bec885db0d3",
   "metadata": {},
   "source": [
    "## 1. Import packages"
   ]
  },
  {
   "cell_type": "code",
   "execution_count": 1,
   "id": "3c94335a-27c7-44d3-ad0e-c61f3f446e2d",
   "metadata": {},
   "outputs": [],
   "source": [
    "import os\n",
    "os.environ['CUDA_LAUNCH_BLOCKING'] = '1'"
   ]
  },
  {
   "cell_type": "code",
   "execution_count": 2,
   "id": "823c7632-9f07-4971-8c6d-628bbccafaed",
   "metadata": {},
   "outputs": [],
   "source": [
    "import torch\n",
    "import numpy as np\n",
    "from transformers import BertTokenizer, BertModel, AutoTokenizer\n",
    "from transformers import AutoModelForSequenceClassification, TrainingArguments, Trainer,BertForSequenceClassification\n",
    "from datasets import load_dataset, ClassLabel, Value, load_metric\n"
   ]
  },
  {
   "cell_type": "markdown",
   "id": "8a48356a-0f17-4531-9612-9cebfd4515a5",
   "metadata": {},
   "source": [
    "## 2. load&split the first half of QQP for fine-tuning"
   ]
  },
  {
   "cell_type": "code",
   "execution_count": 4,
   "id": "a832df21-1933-4195-8826-bcb078829a87",
   "metadata": {},
   "outputs": [
    {
     "name": "stderr",
     "output_type": "stream",
     "text": [
      "Using custom data configuration default\n",
      "Reusing dataset quora (C:\\Users\\52673\\.cache\\huggingface\\datasets\\quora\\default\\0.0.0\\36ba4cd42107f051a158016f1bea6ae3f4685c5df843529108a54e42d86c1e04)\n",
      "Using custom data configuration default\n",
      "Reusing dataset quora (C:\\Users\\52673\\.cache\\huggingface\\datasets\\quora\\default\\0.0.0\\36ba4cd42107f051a158016f1bea6ae3f4685c5df843529108a54e42d86c1e04)\n"
     ]
    }
   ],
   "source": [
    "# sampling the dataset for fine-tuning\n",
    "train = load_dataset(\"quora\", split = 'train[:35%]')     # classic 7/3 split\n",
    "validation = load_dataset(\"quora\", split = 'train[35%:50%]')"
   ]
  },
  {
   "cell_type": "code",
   "execution_count": 5,
   "id": "3ee18604-f11f-4bb5-b8b8-bc31c3fc1aec",
   "metadata": {},
   "outputs": [
    {
     "name": "stderr",
     "output_type": "stream",
     "text": [
      "Loading cached processed dataset at C:\\Users\\52673\\.cache\\huggingface\\datasets\\quora\\default\\0.0.0\\36ba4cd42107f051a158016f1bea6ae3f4685c5df843529108a54e42d86c1e04\\cache-0474a84a76505170.arrow\n",
      "Loading cached processed dataset at C:\\Users\\52673\\.cache\\huggingface\\datasets\\quora\\default\\0.0.0\\36ba4cd42107f051a158016f1bea6ae3f4685c5df843529108a54e42d86c1e04\\cache-387810a1332fde55.arrow\n"
     ]
    }
   ],
   "source": [
    "# convert the dtype of 'is_duplicate' to int\n",
    "new_features = train.features.copy()\n",
    "new_features[\"is_duplicate\"] = Value('int32')\n",
    "train = train.cast(new_features)\n",
    "\n",
    "new_features = validation.features.copy()\n",
    "new_features[\"is_duplicate\"] = Value('int32')\n",
    "validation = validation.cast(new_features)"
   ]
  },
  {
   "cell_type": "code",
   "execution_count": 6,
   "id": "e7e55774-7b3c-418e-ae80-3448d760c954",
   "metadata": {},
   "outputs": [
    {
     "data": {
      "text/plain": [
       "{'questions': {'id': [1, 2],\n",
       "  'text': ['What is the step by step guide to invest in share market in india?',\n",
       "   'What is the step by step guide to invest in share market?']},\n",
       " 'is_duplicate': 0}"
      ]
     },
     "execution_count": 6,
     "metadata": {},
     "output_type": "execute_result"
    }
   ],
   "source": [
    "# take a look at an sample\n",
    "train[0]"
   ]
  },
  {
   "cell_type": "markdown",
   "id": "10e3b6d1-878b-431d-904a-001bd3be328b",
   "metadata": {},
   "source": [
    "## 3. Encoding + Preprocessing"
   ]
  },
  {
   "cell_type": "code",
   "execution_count": 7,
   "id": "747bbc96-82b1-485e-bb6e-bb8119b16755",
   "metadata": {},
   "outputs": [],
   "source": [
    "# load the tokenizer pretrained on bert-base\n",
    "tokenizer = AutoTokenizer.from_pretrained('bert-base-cased')"
   ]
  },
  {
   "cell_type": "code",
   "execution_count": 8,
   "id": "512fc59a-f088-4a5e-bf80-753b8fb16998",
   "metadata": {},
   "outputs": [
    {
     "name": "stderr",
     "output_type": "stream",
     "text": [
      "Loading cached processed dataset at C:\\Users\\52673\\.cache\\huggingface\\datasets\\quora\\default\\0.0.0\\36ba4cd42107f051a158016f1bea6ae3f4685c5df843529108a54e42d86c1e04\\cache-c46265a14b9424db.arrow\n",
      "<ipython-input-8-0f7e0eaaeefb>:4: FutureWarning: rename_column_ is deprecated and will be removed in the next major version of datasets. Use Dataset.rename_column instead.\n",
      "  encoded_train.rename_column_(\"is_duplicate\", \"labels\")\n"
     ]
    }
   ],
   "source": [
    "# encode the training dataset in the form of sentences pair\n",
    "# truncate at length=64 for a balance of time consuming and information coverage\n",
    "encoded_train = train.map(lambda batch: tokenizer(batch['questions']['text'][0], batch['questions']['text'][1], \n",
    "                                                  padding='max_length', truncation=True, max_length=64))\n",
    "encoded_train.rename_column_(\"is_duplicate\", \"labels\")"
   ]
  },
  {
   "cell_type": "code",
   "execution_count": 9,
   "id": "be555f9f-eed4-47e2-845b-2fc778a4a4b9",
   "metadata": {},
   "outputs": [
    {
     "data": {
      "application/vnd.jupyter.widget-view+json": {
       "model_id": "d4444e66b4cc4702b851623282f7a274",
       "version_major": 2,
       "version_minor": 0
      },
      "text/plain": [
       "  0%|          | 0/60643 [00:00<?, ?ex/s]"
      ]
     },
     "metadata": {},
     "output_type": "display_data"
    }
   ],
   "source": [
    "# encode the validation dataset in the form of sentences pair\n",
    "encoded_validation = validation.map(lambda batch: tokenizer(batch['questions']['text'][0], batch['questions']['text'][1], \n",
    "                                                            padding='max_length', truncation=True, max_length=64))\n",
    "encoded_validation.rename_column_(\"is_duplicate\", \"labels\")"
   ]
  },
  {
   "cell_type": "code",
   "execution_count": 9,
   "id": "6b66c1bf-f220-46f2-b8e7-65e5e0ef98dc",
   "metadata": {},
   "outputs": [],
   "source": [
    "encoded_train.set_format(\"torch\", columns=[\"input_ids\", \"token_type_ids\", \"attention_mask\", \"labels\"])\n",
    "encoded_validation.set_format(\"torch\", columns=[\"input_ids\", \"token_type_ids\", \"attention_mask\", \"labels\"])"
   ]
  },
  {
   "cell_type": "code",
   "execution_count": 10,
   "id": "2399deb8-3d8b-4531-9386-b3048951e48e",
   "metadata": {},
   "outputs": [
    {
     "name": "stdout",
     "output_type": "stream",
     "text": [
      "{'labels': torch.Size([]), 'input_ids': torch.Size([64]), 'token_type_ids': torch.Size([64]), 'attention_mask': torch.Size([64])}\n",
      "{'labels': torch.Size([]), 'input_ids': torch.Size([64]), 'token_type_ids': torch.Size([64]), 'attention_mask': torch.Size([64])}\n"
     ]
    }
   ],
   "source": [
    "# check if the format is valid, and if each tensor have the same size\n",
    "print({key: val.shape for key, val in encoded_validation[0].items()})\n",
    "print({key: val.shape for key, val in encoded_validation[1].items()})"
   ]
  },
  {
   "cell_type": "code",
   "execution_count": 11,
   "id": "3af776c2-65e0-4925-839d-40bbdddfa746",
   "metadata": {},
   "outputs": [
    {
     "data": {
      "text/plain": [
       "{'labels': tensor(0),\n",
       " 'input_ids': tensor([  101,  1327,  1110,  1103,  1642,  1104, 19892, 21918,  1766,   113,\n",
       "         19892,  1324,   118,   178,   118,  1302,  1766,   114,  8549,   136,\n",
       "           102,  1327,  1156,  3333,  1191,  1103,  1890,  1433, 10566,  1103,\n",
       "         19892, 21918,  1766,   113, 19892,  1324,   118,   178,   118,  1302,\n",
       "          1766,   114,  9883,  1171,   136,   102,     0,     0,     0,     0,\n",
       "             0,     0,     0,     0,     0,     0,     0,     0,     0,     0,\n",
       "             0,     0,     0,     0]),\n",
       " 'token_type_ids': tensor([0, 0, 0, 0, 0, 0, 0, 0, 0, 0, 0, 0, 0, 0, 0, 0, 0, 0, 0, 0, 0, 1, 1, 1,\n",
       "         1, 1, 1, 1, 1, 1, 1, 1, 1, 1, 1, 1, 1, 1, 1, 1, 1, 1, 1, 1, 1, 1, 0, 0,\n",
       "         0, 0, 0, 0, 0, 0, 0, 0, 0, 0, 0, 0, 0, 0, 0, 0]),\n",
       " 'attention_mask': tensor([1, 1, 1, 1, 1, 1, 1, 1, 1, 1, 1, 1, 1, 1, 1, 1, 1, 1, 1, 1, 1, 1, 1, 1,\n",
       "         1, 1, 1, 1, 1, 1, 1, 1, 1, 1, 1, 1, 1, 1, 1, 1, 1, 1, 1, 1, 1, 1, 0, 0,\n",
       "         0, 0, 0, 0, 0, 0, 0, 0, 0, 0, 0, 0, 0, 0, 0, 0])}"
      ]
     },
     "execution_count": 11,
     "metadata": {},
     "output_type": "execute_result"
    }
   ],
   "source": [
    "# take a look at an encoded sample\n",
    "encoded_train[1]"
   ]
  },
  {
   "cell_type": "markdown",
   "id": "4931e825-5bb7-466a-8ee8-24246d1062e1",
   "metadata": {},
   "source": [
    "## 4. Fine-tune"
   ]
  },
  {
   "cell_type": "code",
   "execution_count": 12,
   "id": "469ea68f-1107-489a-a109-72cb346cfb63",
   "metadata": {},
   "outputs": [
    {
     "name": "stderr",
     "output_type": "stream",
     "text": [
      "Some weights of the model checkpoint at bert-base-cased were not used when initializing BertForSequenceClassification: ['cls.predictions.transform.LayerNorm.weight', 'cls.predictions.transform.LayerNorm.bias', 'cls.seq_relationship.weight', 'cls.predictions.transform.dense.bias', 'cls.predictions.decoder.weight', 'cls.seq_relationship.bias', 'cls.predictions.bias', 'cls.predictions.transform.dense.weight']\n",
      "- This IS expected if you are initializing BertForSequenceClassification from the checkpoint of a model trained on another task or with another architecture (e.g. initializing a BertForSequenceClassification model from a BertForPreTraining model).\n",
      "- This IS NOT expected if you are initializing BertForSequenceClassification from the checkpoint of a model that you expect to be exactly identical (initializing a BertForSequenceClassification model from a BertForSequenceClassification model).\n",
      "Some weights of BertForSequenceClassification were not initialized from the model checkpoint at bert-base-cased and are newly initialized: ['classifier.bias', 'classifier.weight']\n",
      "You should probably TRAIN this model on a down-stream task to be able to use it for predictions and inference.\n"
     ]
    }
   ],
   "source": [
    "# load a pretrained model\n",
    "\n",
    "model = AutoModelForSequenceClassification.from_pretrained(\"bert-base-cased\", num_labels=2)\n",
    "#model = BertForSequenceClassification.from_pretrained(\"bert-base-cased\", num_labels=2)\n"
   ]
  },
  {
   "cell_type": "code",
   "execution_count": null,
   "id": "50357103-473f-4d5c-b47e-360644c92f4a",
   "metadata": {},
   "outputs": [],
   "source": [
    "# set traning arguments manually if needed\n",
    "\n",
    "training_args = TrainingArguments(\n",
    "    output_dir='./results',          # output directory\n",
    "    num_train_epochs=3,              # total number of training epochs\n",
    "    per_device_train_batch_size=2,  # batch size per device during training\n",
    "    per_device_eval_batch_size=4,   # batch size for evaluation\n",
    "    warmup_steps=500,                # number of warmup steps for learning rate scheduler\n",
    "    weight_decay=0.01,               # strength of weight decay\n",
    "    logging_dir='./logs',            # directory for storing logs\n",
    "    logging_steps=500,\n",
    ")"
   ]
  },
  {
   "cell_type": "code",
   "execution_count": 13,
   "id": "569db399-f03d-4c0c-82e4-e1621673753f",
   "metadata": {},
   "outputs": [],
   "source": [
    "# clean up gpu cache before training\n",
    "import gc\n",
    "\n",
    "gc.collect()\n",
    "\n",
    "torch.cuda.empty_cache()"
   ]
  },
  {
   "cell_type": "code",
   "execution_count": 14,
   "id": "f2eebd07-26f6-47ae-b6ff-0b8f8ff024ec",
   "metadata": {
    "tags": []
   },
   "outputs": [
    {
     "name": "stderr",
     "output_type": "stream",
     "text": [
      "The following columns in the training set  don't have a corresponding argument in `BertForSequenceClassification.forward` and have been ignored: questions.\n",
      "***** Running training *****\n",
      "  Num examples = 141502\n",
      "  Num Epochs = 3\n",
      "  Instantaneous batch size per device = 8\n",
      "  Total train batch size (w. parallel, distributed & accumulation) = 8\n",
      "  Gradient Accumulation steps = 1\n",
      "  Total optimization steps = 53064\n"
     ]
    },
    {
     "data": {
      "text/html": [
       "\n",
       "    <div>\n",
       "      \n",
       "      <progress value='53064' max='53064' style='width:300px; height:20px; vertical-align: middle;'></progress>\n",
       "      [53064/53064 2:58:12, Epoch 3/3]\n",
       "    </div>\n",
       "    <table border=\"1\" class=\"dataframe\">\n",
       "  <thead>\n",
       "    <tr style=\"text-align: left;\">\n",
       "      <th>Step</th>\n",
       "      <th>Training Loss</th>\n",
       "    </tr>\n",
       "  </thead>\n",
       "  <tbody>\n",
       "    <tr>\n",
       "      <td>500</td>\n",
       "      <td>0.542700</td>\n",
       "    </tr>\n",
       "    <tr>\n",
       "      <td>1000</td>\n",
       "      <td>0.483300</td>\n",
       "    </tr>\n",
       "    <tr>\n",
       "      <td>1500</td>\n",
       "      <td>0.484800</td>\n",
       "    </tr>\n",
       "    <tr>\n",
       "      <td>2000</td>\n",
       "      <td>0.464700</td>\n",
       "    </tr>\n",
       "    <tr>\n",
       "      <td>2500</td>\n",
       "      <td>0.453300</td>\n",
       "    </tr>\n",
       "    <tr>\n",
       "      <td>3000</td>\n",
       "      <td>0.452400</td>\n",
       "    </tr>\n",
       "    <tr>\n",
       "      <td>3500</td>\n",
       "      <td>0.437800</td>\n",
       "    </tr>\n",
       "    <tr>\n",
       "      <td>4000</td>\n",
       "      <td>0.446200</td>\n",
       "    </tr>\n",
       "    <tr>\n",
       "      <td>4500</td>\n",
       "      <td>0.432100</td>\n",
       "    </tr>\n",
       "    <tr>\n",
       "      <td>5000</td>\n",
       "      <td>0.434400</td>\n",
       "    </tr>\n",
       "    <tr>\n",
       "      <td>5500</td>\n",
       "      <td>0.440800</td>\n",
       "    </tr>\n",
       "    <tr>\n",
       "      <td>6000</td>\n",
       "      <td>0.422000</td>\n",
       "    </tr>\n",
       "    <tr>\n",
       "      <td>6500</td>\n",
       "      <td>0.434300</td>\n",
       "    </tr>\n",
       "    <tr>\n",
       "      <td>7000</td>\n",
       "      <td>0.422000</td>\n",
       "    </tr>\n",
       "    <tr>\n",
       "      <td>7500</td>\n",
       "      <td>0.413300</td>\n",
       "    </tr>\n",
       "    <tr>\n",
       "      <td>8000</td>\n",
       "      <td>0.414600</td>\n",
       "    </tr>\n",
       "    <tr>\n",
       "      <td>8500</td>\n",
       "      <td>0.410700</td>\n",
       "    </tr>\n",
       "    <tr>\n",
       "      <td>9000</td>\n",
       "      <td>0.416000</td>\n",
       "    </tr>\n",
       "    <tr>\n",
       "      <td>9500</td>\n",
       "      <td>0.409000</td>\n",
       "    </tr>\n",
       "    <tr>\n",
       "      <td>10000</td>\n",
       "      <td>0.391900</td>\n",
       "    </tr>\n",
       "    <tr>\n",
       "      <td>10500</td>\n",
       "      <td>0.418800</td>\n",
       "    </tr>\n",
       "    <tr>\n",
       "      <td>11000</td>\n",
       "      <td>0.394200</td>\n",
       "    </tr>\n",
       "    <tr>\n",
       "      <td>11500</td>\n",
       "      <td>0.411400</td>\n",
       "    </tr>\n",
       "    <tr>\n",
       "      <td>12000</td>\n",
       "      <td>0.408800</td>\n",
       "    </tr>\n",
       "    <tr>\n",
       "      <td>12500</td>\n",
       "      <td>0.398700</td>\n",
       "    </tr>\n",
       "    <tr>\n",
       "      <td>13000</td>\n",
       "      <td>0.398900</td>\n",
       "    </tr>\n",
       "    <tr>\n",
       "      <td>13500</td>\n",
       "      <td>0.390400</td>\n",
       "    </tr>\n",
       "    <tr>\n",
       "      <td>14000</td>\n",
       "      <td>0.417200</td>\n",
       "    </tr>\n",
       "    <tr>\n",
       "      <td>14500</td>\n",
       "      <td>0.392900</td>\n",
       "    </tr>\n",
       "    <tr>\n",
       "      <td>15000</td>\n",
       "      <td>0.389400</td>\n",
       "    </tr>\n",
       "    <tr>\n",
       "      <td>15500</td>\n",
       "      <td>0.381900</td>\n",
       "    </tr>\n",
       "    <tr>\n",
       "      <td>16000</td>\n",
       "      <td>0.381000</td>\n",
       "    </tr>\n",
       "    <tr>\n",
       "      <td>16500</td>\n",
       "      <td>0.379600</td>\n",
       "    </tr>\n",
       "    <tr>\n",
       "      <td>17000</td>\n",
       "      <td>0.382800</td>\n",
       "    </tr>\n",
       "    <tr>\n",
       "      <td>17500</td>\n",
       "      <td>0.378100</td>\n",
       "    </tr>\n",
       "    <tr>\n",
       "      <td>18000</td>\n",
       "      <td>0.363600</td>\n",
       "    </tr>\n",
       "    <tr>\n",
       "      <td>18500</td>\n",
       "      <td>0.326000</td>\n",
       "    </tr>\n",
       "    <tr>\n",
       "      <td>19000</td>\n",
       "      <td>0.339200</td>\n",
       "    </tr>\n",
       "    <tr>\n",
       "      <td>19500</td>\n",
       "      <td>0.336300</td>\n",
       "    </tr>\n",
       "    <tr>\n",
       "      <td>20000</td>\n",
       "      <td>0.360600</td>\n",
       "    </tr>\n",
       "    <tr>\n",
       "      <td>20500</td>\n",
       "      <td>0.343800</td>\n",
       "    </tr>\n",
       "    <tr>\n",
       "      <td>21000</td>\n",
       "      <td>0.344700</td>\n",
       "    </tr>\n",
       "    <tr>\n",
       "      <td>21500</td>\n",
       "      <td>0.338500</td>\n",
       "    </tr>\n",
       "    <tr>\n",
       "      <td>22000</td>\n",
       "      <td>0.338500</td>\n",
       "    </tr>\n",
       "    <tr>\n",
       "      <td>22500</td>\n",
       "      <td>0.349700</td>\n",
       "    </tr>\n",
       "    <tr>\n",
       "      <td>23000</td>\n",
       "      <td>0.343600</td>\n",
       "    </tr>\n",
       "    <tr>\n",
       "      <td>23500</td>\n",
       "      <td>0.331200</td>\n",
       "    </tr>\n",
       "    <tr>\n",
       "      <td>24000</td>\n",
       "      <td>0.336400</td>\n",
       "    </tr>\n",
       "    <tr>\n",
       "      <td>24500</td>\n",
       "      <td>0.348900</td>\n",
       "    </tr>\n",
       "    <tr>\n",
       "      <td>25000</td>\n",
       "      <td>0.340700</td>\n",
       "    </tr>\n",
       "    <tr>\n",
       "      <td>25500</td>\n",
       "      <td>0.334900</td>\n",
       "    </tr>\n",
       "    <tr>\n",
       "      <td>26000</td>\n",
       "      <td>0.333000</td>\n",
       "    </tr>\n",
       "    <tr>\n",
       "      <td>26500</td>\n",
       "      <td>0.326600</td>\n",
       "    </tr>\n",
       "    <tr>\n",
       "      <td>27000</td>\n",
       "      <td>0.334100</td>\n",
       "    </tr>\n",
       "    <tr>\n",
       "      <td>27500</td>\n",
       "      <td>0.322800</td>\n",
       "    </tr>\n",
       "    <tr>\n",
       "      <td>28000</td>\n",
       "      <td>0.338400</td>\n",
       "    </tr>\n",
       "    <tr>\n",
       "      <td>28500</td>\n",
       "      <td>0.332900</td>\n",
       "    </tr>\n",
       "    <tr>\n",
       "      <td>29000</td>\n",
       "      <td>0.346900</td>\n",
       "    </tr>\n",
       "    <tr>\n",
       "      <td>29500</td>\n",
       "      <td>0.322600</td>\n",
       "    </tr>\n",
       "    <tr>\n",
       "      <td>30000</td>\n",
       "      <td>0.333000</td>\n",
       "    </tr>\n",
       "    <tr>\n",
       "      <td>30500</td>\n",
       "      <td>0.345700</td>\n",
       "    </tr>\n",
       "    <tr>\n",
       "      <td>31000</td>\n",
       "      <td>0.331900</td>\n",
       "    </tr>\n",
       "    <tr>\n",
       "      <td>31500</td>\n",
       "      <td>0.336900</td>\n",
       "    </tr>\n",
       "    <tr>\n",
       "      <td>32000</td>\n",
       "      <td>0.334100</td>\n",
       "    </tr>\n",
       "    <tr>\n",
       "      <td>32500</td>\n",
       "      <td>0.339900</td>\n",
       "    </tr>\n",
       "    <tr>\n",
       "      <td>33000</td>\n",
       "      <td>0.327000</td>\n",
       "    </tr>\n",
       "    <tr>\n",
       "      <td>33500</td>\n",
       "      <td>0.324800</td>\n",
       "    </tr>\n",
       "    <tr>\n",
       "      <td>34000</td>\n",
       "      <td>0.327700</td>\n",
       "    </tr>\n",
       "    <tr>\n",
       "      <td>34500</td>\n",
       "      <td>0.314200</td>\n",
       "    </tr>\n",
       "    <tr>\n",
       "      <td>35000</td>\n",
       "      <td>0.333600</td>\n",
       "    </tr>\n",
       "    <tr>\n",
       "      <td>35500</td>\n",
       "      <td>0.310900</td>\n",
       "    </tr>\n",
       "    <tr>\n",
       "      <td>36000</td>\n",
       "      <td>0.259800</td>\n",
       "    </tr>\n",
       "    <tr>\n",
       "      <td>36500</td>\n",
       "      <td>0.244800</td>\n",
       "    </tr>\n",
       "    <tr>\n",
       "      <td>37000</td>\n",
       "      <td>0.269900</td>\n",
       "    </tr>\n",
       "    <tr>\n",
       "      <td>37500</td>\n",
       "      <td>0.267300</td>\n",
       "    </tr>\n",
       "    <tr>\n",
       "      <td>38000</td>\n",
       "      <td>0.262800</td>\n",
       "    </tr>\n",
       "    <tr>\n",
       "      <td>38500</td>\n",
       "      <td>0.282100</td>\n",
       "    </tr>\n",
       "    <tr>\n",
       "      <td>39000</td>\n",
       "      <td>0.250900</td>\n",
       "    </tr>\n",
       "    <tr>\n",
       "      <td>39500</td>\n",
       "      <td>0.293700</td>\n",
       "    </tr>\n",
       "    <tr>\n",
       "      <td>40000</td>\n",
       "      <td>0.277600</td>\n",
       "    </tr>\n",
       "    <tr>\n",
       "      <td>40500</td>\n",
       "      <td>0.257500</td>\n",
       "    </tr>\n",
       "    <tr>\n",
       "      <td>41000</td>\n",
       "      <td>0.243500</td>\n",
       "    </tr>\n",
       "    <tr>\n",
       "      <td>41500</td>\n",
       "      <td>0.246600</td>\n",
       "    </tr>\n",
       "    <tr>\n",
       "      <td>42000</td>\n",
       "      <td>0.280800</td>\n",
       "    </tr>\n",
       "    <tr>\n",
       "      <td>42500</td>\n",
       "      <td>0.260000</td>\n",
       "    </tr>\n",
       "    <tr>\n",
       "      <td>43000</td>\n",
       "      <td>0.245800</td>\n",
       "    </tr>\n",
       "    <tr>\n",
       "      <td>43500</td>\n",
       "      <td>0.267600</td>\n",
       "    </tr>\n",
       "    <tr>\n",
       "      <td>44000</td>\n",
       "      <td>0.247900</td>\n",
       "    </tr>\n",
       "    <tr>\n",
       "      <td>44500</td>\n",
       "      <td>0.269200</td>\n",
       "    </tr>\n",
       "    <tr>\n",
       "      <td>45000</td>\n",
       "      <td>0.240300</td>\n",
       "    </tr>\n",
       "    <tr>\n",
       "      <td>45500</td>\n",
       "      <td>0.256100</td>\n",
       "    </tr>\n",
       "    <tr>\n",
       "      <td>46000</td>\n",
       "      <td>0.261200</td>\n",
       "    </tr>\n",
       "    <tr>\n",
       "      <td>46500</td>\n",
       "      <td>0.231100</td>\n",
       "    </tr>\n",
       "    <tr>\n",
       "      <td>47000</td>\n",
       "      <td>0.246900</td>\n",
       "    </tr>\n",
       "    <tr>\n",
       "      <td>47500</td>\n",
       "      <td>0.271900</td>\n",
       "    </tr>\n",
       "    <tr>\n",
       "      <td>48000</td>\n",
       "      <td>0.246800</td>\n",
       "    </tr>\n",
       "    <tr>\n",
       "      <td>48500</td>\n",
       "      <td>0.260400</td>\n",
       "    </tr>\n",
       "    <tr>\n",
       "      <td>49000</td>\n",
       "      <td>0.263700</td>\n",
       "    </tr>\n",
       "    <tr>\n",
       "      <td>49500</td>\n",
       "      <td>0.259100</td>\n",
       "    </tr>\n",
       "    <tr>\n",
       "      <td>50000</td>\n",
       "      <td>0.233100</td>\n",
       "    </tr>\n",
       "    <tr>\n",
       "      <td>50500</td>\n",
       "      <td>0.245900</td>\n",
       "    </tr>\n",
       "    <tr>\n",
       "      <td>51000</td>\n",
       "      <td>0.244000</td>\n",
       "    </tr>\n",
       "    <tr>\n",
       "      <td>51500</td>\n",
       "      <td>0.265900</td>\n",
       "    </tr>\n",
       "    <tr>\n",
       "      <td>52000</td>\n",
       "      <td>0.222900</td>\n",
       "    </tr>\n",
       "    <tr>\n",
       "      <td>52500</td>\n",
       "      <td>0.283400</td>\n",
       "    </tr>\n",
       "    <tr>\n",
       "      <td>53000</td>\n",
       "      <td>0.243600</td>\n",
       "    </tr>\n",
       "  </tbody>\n",
       "</table><p>"
      ],
      "text/plain": [
       "<IPython.core.display.HTML object>"
      ]
     },
     "metadata": {},
     "output_type": "display_data"
    },
    {
     "name": "stderr",
     "output_type": "stream",
     "text": [
      "Saving model checkpoint to tmp_trainer\\checkpoint-500\n",
      "Configuration saved in tmp_trainer\\checkpoint-500\\config.json\n",
      "Model weights saved in tmp_trainer\\checkpoint-500\\pytorch_model.bin\n",
      "Saving model checkpoint to tmp_trainer\\checkpoint-1000\n",
      "Configuration saved in tmp_trainer\\checkpoint-1000\\config.json\n",
      "Model weights saved in tmp_trainer\\checkpoint-1000\\pytorch_model.bin\n",
      "Saving model checkpoint to tmp_trainer\\checkpoint-1500\n",
      "Configuration saved in tmp_trainer\\checkpoint-1500\\config.json\n",
      "Model weights saved in tmp_trainer\\checkpoint-1500\\pytorch_model.bin\n",
      "Saving model checkpoint to tmp_trainer\\checkpoint-2000\n",
      "Configuration saved in tmp_trainer\\checkpoint-2000\\config.json\n",
      "Model weights saved in tmp_trainer\\checkpoint-2000\\pytorch_model.bin\n",
      "Saving model checkpoint to tmp_trainer\\checkpoint-2500\n",
      "Configuration saved in tmp_trainer\\checkpoint-2500\\config.json\n",
      "Model weights saved in tmp_trainer\\checkpoint-2500\\pytorch_model.bin\n",
      "Saving model checkpoint to tmp_trainer\\checkpoint-3000\n",
      "Configuration saved in tmp_trainer\\checkpoint-3000\\config.json\n",
      "Model weights saved in tmp_trainer\\checkpoint-3000\\pytorch_model.bin\n",
      "Saving model checkpoint to tmp_trainer\\checkpoint-3500\n",
      "Configuration saved in tmp_trainer\\checkpoint-3500\\config.json\n",
      "Model weights saved in tmp_trainer\\checkpoint-3500\\pytorch_model.bin\n",
      "Saving model checkpoint to tmp_trainer\\checkpoint-4000\n",
      "Configuration saved in tmp_trainer\\checkpoint-4000\\config.json\n",
      "Model weights saved in tmp_trainer\\checkpoint-4000\\pytorch_model.bin\n",
      "Saving model checkpoint to tmp_trainer\\checkpoint-4500\n",
      "Configuration saved in tmp_trainer\\checkpoint-4500\\config.json\n",
      "Model weights saved in tmp_trainer\\checkpoint-4500\\pytorch_model.bin\n",
      "Saving model checkpoint to tmp_trainer\\checkpoint-5000\n",
      "Configuration saved in tmp_trainer\\checkpoint-5000\\config.json\n",
      "Model weights saved in tmp_trainer\\checkpoint-5000\\pytorch_model.bin\n",
      "Saving model checkpoint to tmp_trainer\\checkpoint-5500\n",
      "Configuration saved in tmp_trainer\\checkpoint-5500\\config.json\n",
      "Model weights saved in tmp_trainer\\checkpoint-5500\\pytorch_model.bin\n",
      "Saving model checkpoint to tmp_trainer\\checkpoint-6000\n",
      "Configuration saved in tmp_trainer\\checkpoint-6000\\config.json\n",
      "Model weights saved in tmp_trainer\\checkpoint-6000\\pytorch_model.bin\n",
      "Saving model checkpoint to tmp_trainer\\checkpoint-6500\n",
      "Configuration saved in tmp_trainer\\checkpoint-6500\\config.json\n",
      "Model weights saved in tmp_trainer\\checkpoint-6500\\pytorch_model.bin\n",
      "Saving model checkpoint to tmp_trainer\\checkpoint-7000\n",
      "Configuration saved in tmp_trainer\\checkpoint-7000\\config.json\n",
      "Model weights saved in tmp_trainer\\checkpoint-7000\\pytorch_model.bin\n",
      "Saving model checkpoint to tmp_trainer\\checkpoint-7500\n",
      "Configuration saved in tmp_trainer\\checkpoint-7500\\config.json\n",
      "Model weights saved in tmp_trainer\\checkpoint-7500\\pytorch_model.bin\n",
      "Saving model checkpoint to tmp_trainer\\checkpoint-8000\n",
      "Configuration saved in tmp_trainer\\checkpoint-8000\\config.json\n",
      "Model weights saved in tmp_trainer\\checkpoint-8000\\pytorch_model.bin\n",
      "Saving model checkpoint to tmp_trainer\\checkpoint-8500\n",
      "Configuration saved in tmp_trainer\\checkpoint-8500\\config.json\n",
      "Model weights saved in tmp_trainer\\checkpoint-8500\\pytorch_model.bin\n",
      "Saving model checkpoint to tmp_trainer\\checkpoint-9000\n",
      "Configuration saved in tmp_trainer\\checkpoint-9000\\config.json\n",
      "Model weights saved in tmp_trainer\\checkpoint-9000\\pytorch_model.bin\n",
      "Saving model checkpoint to tmp_trainer\\checkpoint-9500\n",
      "Configuration saved in tmp_trainer\\checkpoint-9500\\config.json\n",
      "Model weights saved in tmp_trainer\\checkpoint-9500\\pytorch_model.bin\n",
      "Saving model checkpoint to tmp_trainer\\checkpoint-10000\n",
      "Configuration saved in tmp_trainer\\checkpoint-10000\\config.json\n",
      "Model weights saved in tmp_trainer\\checkpoint-10000\\pytorch_model.bin\n",
      "Saving model checkpoint to tmp_trainer\\checkpoint-10500\n",
      "Configuration saved in tmp_trainer\\checkpoint-10500\\config.json\n",
      "Model weights saved in tmp_trainer\\checkpoint-10500\\pytorch_model.bin\n",
      "Saving model checkpoint to tmp_trainer\\checkpoint-11000\n",
      "Configuration saved in tmp_trainer\\checkpoint-11000\\config.json\n",
      "Model weights saved in tmp_trainer\\checkpoint-11000\\pytorch_model.bin\n",
      "Saving model checkpoint to tmp_trainer\\checkpoint-11500\n",
      "Configuration saved in tmp_trainer\\checkpoint-11500\\config.json\n",
      "Model weights saved in tmp_trainer\\checkpoint-11500\\pytorch_model.bin\n",
      "Saving model checkpoint to tmp_trainer\\checkpoint-12000\n",
      "Configuration saved in tmp_trainer\\checkpoint-12000\\config.json\n",
      "Model weights saved in tmp_trainer\\checkpoint-12000\\pytorch_model.bin\n",
      "Saving model checkpoint to tmp_trainer\\checkpoint-12500\n",
      "Configuration saved in tmp_trainer\\checkpoint-12500\\config.json\n",
      "Model weights saved in tmp_trainer\\checkpoint-12500\\pytorch_model.bin\n",
      "Saving model checkpoint to tmp_trainer\\checkpoint-13000\n",
      "Configuration saved in tmp_trainer\\checkpoint-13000\\config.json\n",
      "Model weights saved in tmp_trainer\\checkpoint-13000\\pytorch_model.bin\n",
      "Saving model checkpoint to tmp_trainer\\checkpoint-13500\n",
      "Configuration saved in tmp_trainer\\checkpoint-13500\\config.json\n",
      "Model weights saved in tmp_trainer\\checkpoint-13500\\pytorch_model.bin\n",
      "Saving model checkpoint to tmp_trainer\\checkpoint-14000\n",
      "Configuration saved in tmp_trainer\\checkpoint-14000\\config.json\n",
      "Model weights saved in tmp_trainer\\checkpoint-14000\\pytorch_model.bin\n",
      "Saving model checkpoint to tmp_trainer\\checkpoint-14500\n",
      "Configuration saved in tmp_trainer\\checkpoint-14500\\config.json\n",
      "Model weights saved in tmp_trainer\\checkpoint-14500\\pytorch_model.bin\n",
      "Saving model checkpoint to tmp_trainer\\checkpoint-15000\n",
      "Configuration saved in tmp_trainer\\checkpoint-15000\\config.json\n",
      "Model weights saved in tmp_trainer\\checkpoint-15000\\pytorch_model.bin\n",
      "Saving model checkpoint to tmp_trainer\\checkpoint-15500\n",
      "Configuration saved in tmp_trainer\\checkpoint-15500\\config.json\n",
      "Model weights saved in tmp_trainer\\checkpoint-15500\\pytorch_model.bin\n",
      "Saving model checkpoint to tmp_trainer\\checkpoint-16000\n",
      "Configuration saved in tmp_trainer\\checkpoint-16000\\config.json\n",
      "Model weights saved in tmp_trainer\\checkpoint-16000\\pytorch_model.bin\n",
      "Saving model checkpoint to tmp_trainer\\checkpoint-16500\n",
      "Configuration saved in tmp_trainer\\checkpoint-16500\\config.json\n",
      "Model weights saved in tmp_trainer\\checkpoint-16500\\pytorch_model.bin\n",
      "Saving model checkpoint to tmp_trainer\\checkpoint-17000\n",
      "Configuration saved in tmp_trainer\\checkpoint-17000\\config.json\n",
      "Model weights saved in tmp_trainer\\checkpoint-17000\\pytorch_model.bin\n",
      "Saving model checkpoint to tmp_trainer\\checkpoint-17500\n",
      "Configuration saved in tmp_trainer\\checkpoint-17500\\config.json\n",
      "Model weights saved in tmp_trainer\\checkpoint-17500\\pytorch_model.bin\n",
      "Saving model checkpoint to tmp_trainer\\checkpoint-18000\n",
      "Configuration saved in tmp_trainer\\checkpoint-18000\\config.json\n",
      "Model weights saved in tmp_trainer\\checkpoint-18000\\pytorch_model.bin\n",
      "Saving model checkpoint to tmp_trainer\\checkpoint-18500\n",
      "Configuration saved in tmp_trainer\\checkpoint-18500\\config.json\n",
      "Model weights saved in tmp_trainer\\checkpoint-18500\\pytorch_model.bin\n",
      "Saving model checkpoint to tmp_trainer\\checkpoint-19000\n",
      "Configuration saved in tmp_trainer\\checkpoint-19000\\config.json\n",
      "Model weights saved in tmp_trainer\\checkpoint-19000\\pytorch_model.bin\n",
      "Saving model checkpoint to tmp_trainer\\checkpoint-19500\n",
      "Configuration saved in tmp_trainer\\checkpoint-19500\\config.json\n",
      "Model weights saved in tmp_trainer\\checkpoint-19500\\pytorch_model.bin\n",
      "Saving model checkpoint to tmp_trainer\\checkpoint-20000\n",
      "Configuration saved in tmp_trainer\\checkpoint-20000\\config.json\n",
      "Model weights saved in tmp_trainer\\checkpoint-20000\\pytorch_model.bin\n",
      "Saving model checkpoint to tmp_trainer\\checkpoint-20500\n",
      "Configuration saved in tmp_trainer\\checkpoint-20500\\config.json\n",
      "Model weights saved in tmp_trainer\\checkpoint-20500\\pytorch_model.bin\n",
      "Saving model checkpoint to tmp_trainer\\checkpoint-21000\n",
      "Configuration saved in tmp_trainer\\checkpoint-21000\\config.json\n",
      "Model weights saved in tmp_trainer\\checkpoint-21000\\pytorch_model.bin\n",
      "Saving model checkpoint to tmp_trainer\\checkpoint-21500\n",
      "Configuration saved in tmp_trainer\\checkpoint-21500\\config.json\n",
      "Model weights saved in tmp_trainer\\checkpoint-21500\\pytorch_model.bin\n",
      "Saving model checkpoint to tmp_trainer\\checkpoint-22000\n",
      "Configuration saved in tmp_trainer\\checkpoint-22000\\config.json\n",
      "Model weights saved in tmp_trainer\\checkpoint-22000\\pytorch_model.bin\n",
      "Saving model checkpoint to tmp_trainer\\checkpoint-22500\n",
      "Configuration saved in tmp_trainer\\checkpoint-22500\\config.json\n",
      "Model weights saved in tmp_trainer\\checkpoint-22500\\pytorch_model.bin\n",
      "Saving model checkpoint to tmp_trainer\\checkpoint-23000\n",
      "Configuration saved in tmp_trainer\\checkpoint-23000\\config.json\n",
      "Model weights saved in tmp_trainer\\checkpoint-23000\\pytorch_model.bin\n",
      "Saving model checkpoint to tmp_trainer\\checkpoint-23500\n",
      "Configuration saved in tmp_trainer\\checkpoint-23500\\config.json\n",
      "Model weights saved in tmp_trainer\\checkpoint-23500\\pytorch_model.bin\n",
      "Saving model checkpoint to tmp_trainer\\checkpoint-24000\n",
      "Configuration saved in tmp_trainer\\checkpoint-24000\\config.json\n",
      "Model weights saved in tmp_trainer\\checkpoint-24000\\pytorch_model.bin\n",
      "Saving model checkpoint to tmp_trainer\\checkpoint-24500\n",
      "Configuration saved in tmp_trainer\\checkpoint-24500\\config.json\n",
      "Model weights saved in tmp_trainer\\checkpoint-24500\\pytorch_model.bin\n",
      "Saving model checkpoint to tmp_trainer\\checkpoint-25000\n",
      "Configuration saved in tmp_trainer\\checkpoint-25000\\config.json\n",
      "Model weights saved in tmp_trainer\\checkpoint-25000\\pytorch_model.bin\n",
      "Saving model checkpoint to tmp_trainer\\checkpoint-25500\n",
      "Configuration saved in tmp_trainer\\checkpoint-25500\\config.json\n",
      "Model weights saved in tmp_trainer\\checkpoint-25500\\pytorch_model.bin\n",
      "Saving model checkpoint to tmp_trainer\\checkpoint-26000\n",
      "Configuration saved in tmp_trainer\\checkpoint-26000\\config.json\n",
      "Model weights saved in tmp_trainer\\checkpoint-26000\\pytorch_model.bin\n",
      "Saving model checkpoint to tmp_trainer\\checkpoint-26500\n",
      "Configuration saved in tmp_trainer\\checkpoint-26500\\config.json\n",
      "Model weights saved in tmp_trainer\\checkpoint-26500\\pytorch_model.bin\n",
      "Saving model checkpoint to tmp_trainer\\checkpoint-27000\n",
      "Configuration saved in tmp_trainer\\checkpoint-27000\\config.json\n",
      "Model weights saved in tmp_trainer\\checkpoint-27000\\pytorch_model.bin\n",
      "Saving model checkpoint to tmp_trainer\\checkpoint-27500\n",
      "Configuration saved in tmp_trainer\\checkpoint-27500\\config.json\n",
      "Model weights saved in tmp_trainer\\checkpoint-27500\\pytorch_model.bin\n",
      "Saving model checkpoint to tmp_trainer\\checkpoint-28000\n",
      "Configuration saved in tmp_trainer\\checkpoint-28000\\config.json\n",
      "Model weights saved in tmp_trainer\\checkpoint-28000\\pytorch_model.bin\n",
      "Saving model checkpoint to tmp_trainer\\checkpoint-28500\n",
      "Configuration saved in tmp_trainer\\checkpoint-28500\\config.json\n",
      "Model weights saved in tmp_trainer\\checkpoint-28500\\pytorch_model.bin\n",
      "Saving model checkpoint to tmp_trainer\\checkpoint-29000\n",
      "Configuration saved in tmp_trainer\\checkpoint-29000\\config.json\n",
      "Model weights saved in tmp_trainer\\checkpoint-29000\\pytorch_model.bin\n",
      "Saving model checkpoint to tmp_trainer\\checkpoint-29500\n",
      "Configuration saved in tmp_trainer\\checkpoint-29500\\config.json\n",
      "Model weights saved in tmp_trainer\\checkpoint-29500\\pytorch_model.bin\n",
      "Saving model checkpoint to tmp_trainer\\checkpoint-30000\n",
      "Configuration saved in tmp_trainer\\checkpoint-30000\\config.json\n",
      "Model weights saved in tmp_trainer\\checkpoint-30000\\pytorch_model.bin\n",
      "Saving model checkpoint to tmp_trainer\\checkpoint-30500\n",
      "Configuration saved in tmp_trainer\\checkpoint-30500\\config.json\n",
      "Model weights saved in tmp_trainer\\checkpoint-30500\\pytorch_model.bin\n",
      "Saving model checkpoint to tmp_trainer\\checkpoint-31000\n",
      "Configuration saved in tmp_trainer\\checkpoint-31000\\config.json\n",
      "Model weights saved in tmp_trainer\\checkpoint-31000\\pytorch_model.bin\n",
      "Saving model checkpoint to tmp_trainer\\checkpoint-31500\n",
      "Configuration saved in tmp_trainer\\checkpoint-31500\\config.json\n",
      "Model weights saved in tmp_trainer\\checkpoint-31500\\pytorch_model.bin\n",
      "Saving model checkpoint to tmp_trainer\\checkpoint-32000\n",
      "Configuration saved in tmp_trainer\\checkpoint-32000\\config.json\n",
      "Model weights saved in tmp_trainer\\checkpoint-32000\\pytorch_model.bin\n",
      "Saving model checkpoint to tmp_trainer\\checkpoint-32500\n",
      "Configuration saved in tmp_trainer\\checkpoint-32500\\config.json\n",
      "Model weights saved in tmp_trainer\\checkpoint-32500\\pytorch_model.bin\n",
      "Saving model checkpoint to tmp_trainer\\checkpoint-33000\n",
      "Configuration saved in tmp_trainer\\checkpoint-33000\\config.json\n",
      "Model weights saved in tmp_trainer\\checkpoint-33000\\pytorch_model.bin\n",
      "Saving model checkpoint to tmp_trainer\\checkpoint-33500\n",
      "Configuration saved in tmp_trainer\\checkpoint-33500\\config.json\n",
      "Model weights saved in tmp_trainer\\checkpoint-33500\\pytorch_model.bin\n",
      "Saving model checkpoint to tmp_trainer\\checkpoint-34000\n",
      "Configuration saved in tmp_trainer\\checkpoint-34000\\config.json\n",
      "Model weights saved in tmp_trainer\\checkpoint-34000\\pytorch_model.bin\n",
      "Saving model checkpoint to tmp_trainer\\checkpoint-34500\n",
      "Configuration saved in tmp_trainer\\checkpoint-34500\\config.json\n",
      "Model weights saved in tmp_trainer\\checkpoint-34500\\pytorch_model.bin\n",
      "Saving model checkpoint to tmp_trainer\\checkpoint-35000\n",
      "Configuration saved in tmp_trainer\\checkpoint-35000\\config.json\n",
      "Model weights saved in tmp_trainer\\checkpoint-35000\\pytorch_model.bin\n",
      "Saving model checkpoint to tmp_trainer\\checkpoint-35500\n",
      "Configuration saved in tmp_trainer\\checkpoint-35500\\config.json\n",
      "Model weights saved in tmp_trainer\\checkpoint-35500\\pytorch_model.bin\n",
      "Saving model checkpoint to tmp_trainer\\checkpoint-36000\n",
      "Configuration saved in tmp_trainer\\checkpoint-36000\\config.json\n",
      "Model weights saved in tmp_trainer\\checkpoint-36000\\pytorch_model.bin\n",
      "Saving model checkpoint to tmp_trainer\\checkpoint-36500\n",
      "Configuration saved in tmp_trainer\\checkpoint-36500\\config.json\n",
      "Model weights saved in tmp_trainer\\checkpoint-36500\\pytorch_model.bin\n",
      "Saving model checkpoint to tmp_trainer\\checkpoint-37000\n",
      "Configuration saved in tmp_trainer\\checkpoint-37000\\config.json\n",
      "Model weights saved in tmp_trainer\\checkpoint-37000\\pytorch_model.bin\n",
      "Saving model checkpoint to tmp_trainer\\checkpoint-37500\n",
      "Configuration saved in tmp_trainer\\checkpoint-37500\\config.json\n",
      "Model weights saved in tmp_trainer\\checkpoint-37500\\pytorch_model.bin\n",
      "Saving model checkpoint to tmp_trainer\\checkpoint-38000\n",
      "Configuration saved in tmp_trainer\\checkpoint-38000\\config.json\n",
      "Model weights saved in tmp_trainer\\checkpoint-38000\\pytorch_model.bin\n",
      "Saving model checkpoint to tmp_trainer\\checkpoint-38500\n",
      "Configuration saved in tmp_trainer\\checkpoint-38500\\config.json\n",
      "Model weights saved in tmp_trainer\\checkpoint-38500\\pytorch_model.bin\n",
      "Saving model checkpoint to tmp_trainer\\checkpoint-39000\n",
      "Configuration saved in tmp_trainer\\checkpoint-39000\\config.json\n",
      "Model weights saved in tmp_trainer\\checkpoint-39000\\pytorch_model.bin\n",
      "Saving model checkpoint to tmp_trainer\\checkpoint-39500\n",
      "Configuration saved in tmp_trainer\\checkpoint-39500\\config.json\n",
      "Model weights saved in tmp_trainer\\checkpoint-39500\\pytorch_model.bin\n",
      "Saving model checkpoint to tmp_trainer\\checkpoint-40000\n",
      "Configuration saved in tmp_trainer\\checkpoint-40000\\config.json\n",
      "Model weights saved in tmp_trainer\\checkpoint-40000\\pytorch_model.bin\n",
      "Saving model checkpoint to tmp_trainer\\checkpoint-40500\n",
      "Configuration saved in tmp_trainer\\checkpoint-40500\\config.json\n",
      "Model weights saved in tmp_trainer\\checkpoint-40500\\pytorch_model.bin\n",
      "Saving model checkpoint to tmp_trainer\\checkpoint-41000\n",
      "Configuration saved in tmp_trainer\\checkpoint-41000\\config.json\n",
      "Model weights saved in tmp_trainer\\checkpoint-41000\\pytorch_model.bin\n",
      "Saving model checkpoint to tmp_trainer\\checkpoint-41500\n",
      "Configuration saved in tmp_trainer\\checkpoint-41500\\config.json\n",
      "Model weights saved in tmp_trainer\\checkpoint-41500\\pytorch_model.bin\n",
      "Saving model checkpoint to tmp_trainer\\checkpoint-42000\n",
      "Configuration saved in tmp_trainer\\checkpoint-42000\\config.json\n",
      "Model weights saved in tmp_trainer\\checkpoint-42000\\pytorch_model.bin\n",
      "Saving model checkpoint to tmp_trainer\\checkpoint-42500\n",
      "Configuration saved in tmp_trainer\\checkpoint-42500\\config.json\n",
      "Model weights saved in tmp_trainer\\checkpoint-42500\\pytorch_model.bin\n",
      "Saving model checkpoint to tmp_trainer\\checkpoint-43000\n",
      "Configuration saved in tmp_trainer\\checkpoint-43000\\config.json\n",
      "Model weights saved in tmp_trainer\\checkpoint-43000\\pytorch_model.bin\n",
      "Saving model checkpoint to tmp_trainer\\checkpoint-43500\n",
      "Configuration saved in tmp_trainer\\checkpoint-43500\\config.json\n",
      "Model weights saved in tmp_trainer\\checkpoint-43500\\pytorch_model.bin\n",
      "Saving model checkpoint to tmp_trainer\\checkpoint-44000\n",
      "Configuration saved in tmp_trainer\\checkpoint-44000\\config.json\n",
      "Model weights saved in tmp_trainer\\checkpoint-44000\\pytorch_model.bin\n",
      "Saving model checkpoint to tmp_trainer\\checkpoint-44500\n",
      "Configuration saved in tmp_trainer\\checkpoint-44500\\config.json\n",
      "Model weights saved in tmp_trainer\\checkpoint-44500\\pytorch_model.bin\n",
      "Saving model checkpoint to tmp_trainer\\checkpoint-45000\n",
      "Configuration saved in tmp_trainer\\checkpoint-45000\\config.json\n",
      "Model weights saved in tmp_trainer\\checkpoint-45000\\pytorch_model.bin\n",
      "Saving model checkpoint to tmp_trainer\\checkpoint-45500\n",
      "Configuration saved in tmp_trainer\\checkpoint-45500\\config.json\n",
      "Model weights saved in tmp_trainer\\checkpoint-45500\\pytorch_model.bin\n",
      "Saving model checkpoint to tmp_trainer\\checkpoint-46000\n",
      "Configuration saved in tmp_trainer\\checkpoint-46000\\config.json\n",
      "Model weights saved in tmp_trainer\\checkpoint-46000\\pytorch_model.bin\n",
      "Saving model checkpoint to tmp_trainer\\checkpoint-46500\n",
      "Configuration saved in tmp_trainer\\checkpoint-46500\\config.json\n",
      "Model weights saved in tmp_trainer\\checkpoint-46500\\pytorch_model.bin\n",
      "Saving model checkpoint to tmp_trainer\\checkpoint-47000\n",
      "Configuration saved in tmp_trainer\\checkpoint-47000\\config.json\n",
      "Model weights saved in tmp_trainer\\checkpoint-47000\\pytorch_model.bin\n",
      "Saving model checkpoint to tmp_trainer\\checkpoint-47500\n",
      "Configuration saved in tmp_trainer\\checkpoint-47500\\config.json\n",
      "Model weights saved in tmp_trainer\\checkpoint-47500\\pytorch_model.bin\n",
      "Saving model checkpoint to tmp_trainer\\checkpoint-48000\n",
      "Configuration saved in tmp_trainer\\checkpoint-48000\\config.json\n",
      "Model weights saved in tmp_trainer\\checkpoint-48000\\pytorch_model.bin\n",
      "Saving model checkpoint to tmp_trainer\\checkpoint-48500\n",
      "Configuration saved in tmp_trainer\\checkpoint-48500\\config.json\n",
      "Model weights saved in tmp_trainer\\checkpoint-48500\\pytorch_model.bin\n",
      "Saving model checkpoint to tmp_trainer\\checkpoint-49000\n",
      "Configuration saved in tmp_trainer\\checkpoint-49000\\config.json\n",
      "Model weights saved in tmp_trainer\\checkpoint-49000\\pytorch_model.bin\n",
      "Saving model checkpoint to tmp_trainer\\checkpoint-49500\n",
      "Configuration saved in tmp_trainer\\checkpoint-49500\\config.json\n",
      "Model weights saved in tmp_trainer\\checkpoint-49500\\pytorch_model.bin\n",
      "Saving model checkpoint to tmp_trainer\\checkpoint-50000\n",
      "Configuration saved in tmp_trainer\\checkpoint-50000\\config.json\n",
      "Model weights saved in tmp_trainer\\checkpoint-50000\\pytorch_model.bin\n",
      "Saving model checkpoint to tmp_trainer\\checkpoint-50500\n",
      "Configuration saved in tmp_trainer\\checkpoint-50500\\config.json\n",
      "Model weights saved in tmp_trainer\\checkpoint-50500\\pytorch_model.bin\n",
      "Saving model checkpoint to tmp_trainer\\checkpoint-51000\n",
      "Configuration saved in tmp_trainer\\checkpoint-51000\\config.json\n",
      "Model weights saved in tmp_trainer\\checkpoint-51000\\pytorch_model.bin\n",
      "Saving model checkpoint to tmp_trainer\\checkpoint-51500\n",
      "Configuration saved in tmp_trainer\\checkpoint-51500\\config.json\n",
      "Model weights saved in tmp_trainer\\checkpoint-51500\\pytorch_model.bin\n",
      "Saving model checkpoint to tmp_trainer\\checkpoint-52000\n",
      "Configuration saved in tmp_trainer\\checkpoint-52000\\config.json\n",
      "Model weights saved in tmp_trainer\\checkpoint-52000\\pytorch_model.bin\n",
      "Saving model checkpoint to tmp_trainer\\checkpoint-52500\n",
      "Configuration saved in tmp_trainer\\checkpoint-52500\\config.json\n",
      "Model weights saved in tmp_trainer\\checkpoint-52500\\pytorch_model.bin\n",
      "Saving model checkpoint to tmp_trainer\\checkpoint-53000\n",
      "Configuration saved in tmp_trainer\\checkpoint-53000\\config.json\n",
      "Model weights saved in tmp_trainer\\checkpoint-53000\\pytorch_model.bin\n",
      "\n",
      "\n",
      "Training completed. Do not forget to share your model on huggingface.co/models =)\n",
      "\n",
      "\n"
     ]
    },
    {
     "data": {
      "text/plain": [
       "TrainOutput(global_step=53064, training_loss=0.33797427717600226, metrics={'train_runtime': 10693.7124, 'train_samples_per_second': 39.697, 'train_steps_per_second': 4.962, 'total_flos': 1.396152770833152e+16, 'train_loss': 0.33797427717600226, 'epoch': 3.0})"
      ]
     },
     "execution_count": 14,
     "metadata": {},
     "output_type": "execute_result"
    }
   ],
   "source": [
    "# train\n",
    "trainer = Trainer(model=model, train_dataset=encoded_train, eval_dataset=encoded_validation)\n",
    "\n",
    "# trainer.train()    \n",
    "trainer.train(resume_from_checkpoint=True) # True if already trained, to save time by continuing on a checkpoint"
   ]
  },
  {
   "cell_type": "code",
   "execution_count": 15,
   "id": "e8d1ab67-431b-4786-9fe3-546fb3514b59",
   "metadata": {},
   "outputs": [
    {
     "name": "stderr",
     "output_type": "stream",
     "text": [
      "Configuration saved in bert_qqp\\config.json\n",
      "Model weights saved in bert_qqp\\pytorch_model.bin\n",
      "loading configuration file bert_qqp\\config.json\n",
      "Model config BertConfig {\n",
      "  \"_name_or_path\": \"bert-base-cased\",\n",
      "  \"architectures\": [\n",
      "    \"BertForSequenceClassification\"\n",
      "  ],\n",
      "  \"attention_probs_dropout_prob\": 0.1,\n",
      "  \"gradient_checkpointing\": false,\n",
      "  \"hidden_act\": \"gelu\",\n",
      "  \"hidden_dropout_prob\": 0.1,\n",
      "  \"hidden_size\": 768,\n",
      "  \"initializer_range\": 0.02,\n",
      "  \"intermediate_size\": 3072,\n",
      "  \"layer_norm_eps\": 1e-12,\n",
      "  \"max_position_embeddings\": 512,\n",
      "  \"model_type\": \"bert\",\n",
      "  \"num_attention_heads\": 12,\n",
      "  \"num_hidden_layers\": 12,\n",
      "  \"pad_token_id\": 0,\n",
      "  \"position_embedding_type\": \"absolute\",\n",
      "  \"problem_type\": \"single_label_classification\",\n",
      "  \"torch_dtype\": \"float32\",\n",
      "  \"transformers_version\": \"4.9.2\",\n",
      "  \"type_vocab_size\": 2,\n",
      "  \"use_cache\": true,\n",
      "  \"vocab_size\": 28996\n",
      "}\n",
      "\n",
      "loading weights file bert_qqp\\pytorch_model.bin\n",
      "All model checkpoint weights were used when initializing BertForSequenceClassification.\n",
      "\n",
      "All the weights of BertForSequenceClassification were initialized from the model checkpoint at bert_qqp.\n",
      "If your task is similar to the task the model of the checkpoint was trained on, you can already use BertForSequenceClassification for predictions without further training.\n"
     ]
    }
   ],
   "source": [
    "# save the fine_tuned model\n",
    "\n",
    "model.save_pretrained(\"bert_qqp\")"
   ]
  },
  {
   "cell_type": "markdown",
   "id": "cc8f7eef-6b1a-42a6-8c78-58415a30345c",
   "metadata": {},
   "source": [
    "## 5. Utilize the other half of QQP for evaluation "
   ]
  },
  {
   "cell_type": "code",
   "execution_count": 10,
   "id": "0077aafc-6e48-4f73-982a-65a93428a349",
   "metadata": {},
   "outputs": [
    {
     "name": "stderr",
     "output_type": "stream",
     "text": [
      "Using custom data configuration default\n",
      "Reusing dataset quora (C:\\Users\\52673\\.cache\\huggingface\\datasets\\quora\\default\\0.0.0\\36ba4cd42107f051a158016f1bea6ae3f4685c5df843529108a54e42d86c1e04)\n",
      "Using custom data configuration default\n",
      "Reusing dataset quora (C:\\Users\\52673\\.cache\\huggingface\\datasets\\quora\\default\\0.0.0\\36ba4cd42107f051a158016f1bea6ae3f4685c5df843529108a54e42d86c1e04)\n"
     ]
    }
   ],
   "source": [
    "# sampling the evaluation dataset from QQP\n",
    "train_eval = load_dataset(\"quora\", split = 'train[50%:85%]')\n",
    "validation_eval = load_dataset(\"quora\", split = 'train[85%:100%]')"
   ]
  },
  {
   "cell_type": "code",
   "execution_count": 11,
   "id": "5ac20b92-d8aa-4733-9267-bf66995e14a0",
   "metadata": {},
   "outputs": [
    {
     "name": "stderr",
     "output_type": "stream",
     "text": [
      "Loading cached processed dataset at C:\\Users\\52673\\.cache\\huggingface\\datasets\\quora\\default\\0.0.0\\36ba4cd42107f051a158016f1bea6ae3f4685c5df843529108a54e42d86c1e04\\cache-58ce8a2d3d13bc51.arrow\n",
      "Loading cached processed dataset at C:\\Users\\52673\\.cache\\huggingface\\datasets\\quora\\default\\0.0.0\\36ba4cd42107f051a158016f1bea6ae3f4685c5df843529108a54e42d86c1e04\\cache-077de9dbe62a5b12.arrow\n"
     ]
    }
   ],
   "source": [
    "# repeat all the preprocessing steps above\n",
    "new_features = train_eval.features.copy()\n",
    "new_features[\"is_duplicate\"] = Value('int32')\n",
    "train_eval = train_eval.cast(new_features)\n",
    "\n",
    "new_features = validation_eval.features.copy()\n",
    "new_features[\"is_duplicate\"] = Value('int32')\n",
    "validation_eval = validation_eval.cast(new_features)"
   ]
  },
  {
   "cell_type": "code",
   "execution_count": 12,
   "id": "368548c3-b2c9-4bcf-9f90-afca09edbb18",
   "metadata": {
    "tags": []
   },
   "outputs": [],
   "source": [
    "tokenizer = AutoTokenizer.from_pretrained('bert-base-cased')"
   ]
  },
  {
   "cell_type": "code",
   "execution_count": 13,
   "id": "8ab00df6-37a1-43aa-8264-b1dcad86720f",
   "metadata": {},
   "outputs": [
    {
     "name": "stderr",
     "output_type": "stream",
     "text": [
      "Loading cached processed dataset at C:\\Users\\52673\\.cache\\huggingface\\datasets\\quora\\default\\0.0.0\\36ba4cd42107f051a158016f1bea6ae3f4685c5df843529108a54e42d86c1e04\\cache-aec8ebd6b027502c.arrow\n"
     ]
    },
    {
     "data": {
      "application/vnd.jupyter.widget-view+json": {
       "model_id": "263a61a664b04a909540f127797b9071",
       "version_major": 2,
       "version_minor": 0
      },
      "text/plain": [
       "  0%|          | 0/60644 [00:00<?, ?ex/s]"
      ]
     },
     "metadata": {},
     "output_type": "display_data"
    }
   ],
   "source": [
    "# encode the training dataset in the form of sentences pair\n",
    "encoded_train_eval = train_eval.map(lambda batch: tokenizer(batch['questions']['text'][0], batch['questions']['text'][1], \n",
    "                                                  padding='max_length', truncation=True, max_length=64))\n",
    "encoded_train_eval.rename_column_(\"is_duplicate\", \"labels\")\n",
    "\n",
    "# encode the validation dataset in the form of sentences pair\n",
    "encoded_validation_eval = validation_eval.map(lambda batch: tokenizer(batch['questions']['text'][0], batch['questions']['text'][1], \n",
    "                                                            padding='max_length', truncation=True, max_length=64))\n",
    "encoded_validation_eval.rename_column_(\"is_duplicate\", \"labels\")"
   ]
  },
  {
   "cell_type": "markdown",
   "id": "590de5c2-b0b8-44e2-9e2d-f061225c6509",
   "metadata": {},
   "source": [
    "## 6. Evaluation"
   ]
  },
  {
   "cell_type": "code",
   "execution_count": 24,
   "id": "3bb61a8e-fd38-400d-908c-12086efd687f",
   "metadata": {},
   "outputs": [],
   "source": [
    "model_qqp = AutoModelForSequenceClassification.from_pretrained(\"bert_qqp\")"
   ]
  },
  {
   "cell_type": "code",
   "execution_count": 25,
   "id": "1951058a-05f5-49e5-93b6-e40bd815179f",
   "metadata": {},
   "outputs": [],
   "source": [
    "# load the metric module to compute accuracy\n",
    "accuracy = load_metric(\"accuracy\")\n",
    "\n",
    "def compute_accuracy(eval_pred):\n",
    "    logits, labels = eval_pred\n",
    "    predictions = np.argmax(logits, axis=-1)\n",
    "    return accuracy.compute(predictions=predictions, references=labels)"
   ]
  },
  {
   "cell_type": "code",
   "execution_count": 26,
   "id": "91a6b6ba-b50f-41c4-9400-ae9a55e98c59",
   "metadata": {},
   "outputs": [],
   "source": [
    "# load the metric module to compute f1 score\n",
    "f1 = load_metric(\"f1\")\n",
    "\n",
    "def compute_f1(eval_pred):\n",
    "    logits, labels = eval_pred\n",
    "    predictions = np.argmax(logits, axis=-1)\n",
    "    return f1.compute(predictions=predictions, references=labels)"
   ]
  },
  {
   "cell_type": "markdown",
   "id": "13cd4881-30e6-4b39-8cf9-e6e57617ebb2",
   "metadata": {},
   "source": [
    "### evaluate with accuracy"
   ]
  },
  {
   "cell_type": "code",
   "execution_count": 27,
   "id": "e318f770-0f78-426f-b887-81b7a2b5e9ca",
   "metadata": {},
   "outputs": [
    {
     "name": "stderr",
     "output_type": "stream",
     "text": [
      "The following columns in the evaluation set  don't have a corresponding argument in `BertForSequenceClassification.forward` and have been ignored: questions.\n",
      "***** Running Evaluation *****\n",
      "  Num examples = 60644\n",
      "  Batch size = 8\n"
     ]
    },
    {
     "data": {
      "text/html": [
       "\n",
       "    <div>\n",
       "      \n",
       "      <progress value='7581' max='7581' style='width:300px; height:20px; vertical-align: middle;'></progress>\n",
       "      [7581/7581 34:05]\n",
       "    </div>\n",
       "    "
      ],
      "text/plain": [
       "<IPython.core.display.HTML object>"
      ]
     },
     "metadata": {},
     "output_type": "display_data"
    },
    {
     "data": {
      "text/plain": [
       "{'eval_loss': 0.4974234700202942,\n",
       " 'eval_accuracy': 0.8747279203218785,\n",
       " 'eval_runtime': 2049.5477,\n",
       " 'eval_samples_per_second': 29.589,\n",
       " 'eval_steps_per_second': 3.699}"
      ]
     },
     "execution_count": 27,
     "metadata": {},
     "output_type": "execute_result"
    }
   ],
   "source": [
    "trainer_qqp = Trainer(\n",
    "    model=model_qqp,    #use the fine-tuned model saved on\n",
    "    train_dataset=encoded_train_eval,\n",
    "    eval_dataset=encoded_validation_eval,\n",
    "    compute_metrics=compute_accuracy,\n",
    ")\n",
    "\n",
    "trainer_qqp.evaluate()"
   ]
  },
  {
   "cell_type": "markdown",
   "id": "d30d1cf2-714d-4e43-aaad-2dbc488c975e",
   "metadata": {},
   "source": [
    "### evaluate with f1 score"
   ]
  },
  {
   "cell_type": "code",
   "execution_count": 28,
   "id": "aa3b5933-480f-4d82-ad9b-833af03d3600",
   "metadata": {},
   "outputs": [
    {
     "name": "stderr",
     "output_type": "stream",
     "text": [
      "No `TrainingArguments` passed, using `output_dir=tmp_trainer`.\n",
      "PyTorch: setting up devices\n",
      "The default value for the training argument `--report_to` will change in v5 (from all installed integrations to none). In v5, you will need to use `--report_to all` to get the same behavior as now. You should start updating your code and make this info disappear :-).\n",
      "The following columns in the evaluation set  don't have a corresponding argument in `BertForSequenceClassification.forward` and have been ignored: questions.\n",
      "***** Running Evaluation *****\n",
      "  Num examples = 60644\n",
      "  Batch size = 8\n"
     ]
    },
    {
     "data": {
      "text/html": [
       "\n",
       "    <div>\n",
       "      \n",
       "      <progress value='7581' max='7581' style='width:300px; height:20px; vertical-align: middle;'></progress>\n",
       "      [7581/7581 04:17]\n",
       "    </div>\n",
       "    "
      ],
      "text/plain": [
       "<IPython.core.display.HTML object>"
      ]
     },
     "metadata": {},
     "output_type": "display_data"
    },
    {
     "data": {
      "text/plain": [
       "{'eval_loss': 0.4974234700202942,\n",
       " 'eval_f1': 0.829407405744055,\n",
       " 'eval_runtime': 257.5134,\n",
       " 'eval_samples_per_second': 235.498,\n",
       " 'eval_steps_per_second': 29.439}"
      ]
     },
     "execution_count": 28,
     "metadata": {},
     "output_type": "execute_result"
    }
   ],
   "source": [
    "trainer_qqp = Trainer(\n",
    "    model=model_qqp,    #use the fine-tuned model saved on\n",
    "    train_dataset=encoded_train_eval,\n",
    "    eval_dataset=encoded_validation_eval,\n",
    "    compute_metrics=compute_f1,\n",
    ")\n",
    "\n",
    "trainer_qqp.evaluate() "
   ]
  },
  {
   "cell_type": "code",
   "execution_count": null,
   "id": "d8bfaf43-da18-46b7-88d9-9d2fac9f24e2",
   "metadata": {},
   "outputs": [],
   "source": []
  }
 ],
 "metadata": {
  "kernelspec": {
   "display_name": "Python 3",
   "language": "python",
   "name": "python3"
  },
  "language_info": {
   "codemirror_mode": {
    "name": "ipython",
    "version": 3
   },
   "file_extension": ".py",
   "mimetype": "text/x-python",
   "name": "python",
   "nbconvert_exporter": "python",
   "pygments_lexer": "ipython3",
   "version": "3.8.8"
  }
 },
 "nbformat": 4,
 "nbformat_minor": 5
}
